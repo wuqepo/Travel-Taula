{
  "cells": [
    {
      "cell_type": "markdown",
      "metadata": {
        "id": "view-in-github",
        "colab_type": "text"
      },
      "source": [
        "<a href=\"https://colab.research.google.com/github/wuqepo/Travel-Taula/blob/main/Zadanie1.ipynb\" target=\"_parent\"><img src=\"https://colab.research.google.com/assets/colab-badge.svg\" alt=\"Open In Colab\"/></a>"
      ]
    },
    {
      "cell_type": "markdown",
      "id": "3137ca6e-83e2-4092-98db-f6a349dd1ddb",
      "metadata": {
        "id": "3137ca6e-83e2-4092-98db-f6a349dd1ddb"
      },
      "source": [
        "1.Написать программу, вычислявшую обьем и площадь поверхности цилиндра по радиусу и высоте."
      ]
    },
    {
      "cell_type": "code",
      "execution_count": null,
      "id": "c6c8c17b-c279-445c-be33-80baf68e25c7",
      "metadata": {
        "id": "c6c8c17b-c279-445c-be33-80baf68e25c7",
        "outputId": "8d0d4a50-1d7b-4b06-c8f6-4a75451679b9"
      },
      "outputs": [
        {
          "name": "stdout",
          "output_type": "stream",
          "text": [
            "обьем цилиндра: 392.5\n",
            "площадь поверхности цилиндра: 314.0\n"
          ]
        }
      ],
      "source": [
        "r = 5\n",
        "h = 5\n",
        "s = 2*3.14*r*h+2*3.14*r**2\n",
        "v = 3.14*r**2*h\n",
        "print(f'обьем цилиндра: {v}',f'площадь поверхности цилиндра: {s}',sep='\\n')"
      ]
    },
    {
      "cell_type": "markdown",
      "id": "0d1e2d68-97ab-4ad9-8328-7fe8d615ff1a",
      "metadata": {
        "id": "0d1e2d68-97ab-4ad9-8328-7fe8d615ff1a"
      },
      "source": [
        "2.Написать программу вычисляющую корень квадратного уравнения."
      ]
    },
    {
      "cell_type": "code",
      "execution_count": null,
      "id": "1812693c-25a2-449b-8b37-abc967e8b810",
      "metadata": {
        "id": "1812693c-25a2-449b-8b37-abc967e8b810",
        "outputId": "a903f393-1de1-4d50-d5ac-e449c07fb12d"
      },
      "outputs": [
        {
          "name": "stdout",
          "output_type": "stream",
          "text": [
            "x1: 5.0\n",
            "x2: -1.0\n"
          ]
        }
      ],
      "source": [
        "a = 1\n",
        "b = -4\n",
        "c = -5\n",
        "\n",
        "# ur = 2*x**2-b*x+c\n",
        "\n",
        "d = (b ** 2) - (4 * a * c)\n",
        "if d == 0:\n",
        "    print((-b) / 2 * a)\n",
        "elif d < 0:\n",
        "    print('равенство не имеет действительных корней')\n",
        "elif d > 0:\n",
        "    print(f'x1: {(-b + (d ** 0.5)) / 2 * a}')\n",
        "    print(f'x2: {(-b - (d ** 0.5)) / 2 * a}')"
      ]
    },
    {
      "cell_type": "markdown",
      "id": "7622a8d1-6053-4bd0-b97c-72777b2ba00b",
      "metadata": {
        "id": "7622a8d1-6053-4bd0-b97c-72777b2ba00b"
      },
      "source": [
        "3.Сформировать одномерный массив из элементов заданного массива, то есть есть массив А, нужно создать такой массив В, что в нем сначала идут положительные цифры, затем нулевые и отрицательные."
      ]
    },
    {
      "cell_type": "code",
      "execution_count": null,
      "id": "1ae3a44b-c076-472f-b7c8-3567edd16781",
      "metadata": {
        "id": "1ae3a44b-c076-472f-b7c8-3567edd16781",
        "outputId": "19e2791e-b7e3-4d2c-cca1-83b375377cac"
      },
      "outputs": [
        {
          "name": "stdout",
          "output_type": "stream",
          "text": [
            "[4, 2, 0, -1, -3]\n"
          ]
        }
      ],
      "source": [
        "m = [-1,0,4,-3,2]\n",
        "m = sorted(m)\n",
        "m.reverse()\n",
        "print(m)"
      ]
    }
  ],
  "metadata": {
    "kernelspec": {
      "display_name": "Python 3 (ipykernel)",
      "language": "python",
      "name": "python3"
    },
    "language_info": {
      "codemirror_mode": {
        "name": "ipython",
        "version": 3
      },
      "file_extension": ".py",
      "mimetype": "text/x-python",
      "name": "python",
      "nbconvert_exporter": "python",
      "pygments_lexer": "ipython3",
      "version": "3.13.1"
    },
    "colab": {
      "provenance": [],
      "include_colab_link": true
    }
  },
  "nbformat": 4,
  "nbformat_minor": 5
}